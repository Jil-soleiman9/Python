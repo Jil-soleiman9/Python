{
  "nbformat": 4,
  "nbformat_minor": 0,
  "metadata": {
    "kernelspec": {
      "display_name": "Python 3",
      "language": "python",
      "name": "python3"
    },
    "language_info": {
      "codemirror_mode": {
        "name": "ipython",
        "version": 3
      },
      "file_extension": ".py",
      "mimetype": "text/x-python",
      "name": "python",
      "nbconvert_exporter": "python",
      "pygments_lexer": "ipython3",
      "version": "3.7.1"
    },
    "colab": {
      "name": "Copy of Step_1_6_Functions.ipynb",
      "provenance": [],
      "include_colab_link": true
    }
  },
  "cells": [
    {
      "cell_type": "markdown",
      "metadata": {
        "id": "view-in-github",
        "colab_type": "text"
      },
      "source": [
        "<a href=\"https://colab.research.google.com/github/Jil-soleiman9/Python/blob/master/Copy_of_Step_1_6_Functions.ipynb\" target=\"_parent\"><img src=\"https://colab.research.google.com/assets/colab-badge.svg\" alt=\"Open In Colab\"/></a>"
      ]
    },
    {
      "cell_type": "markdown",
      "metadata": {
        "id": "MQTQAsYojKp8",
        "colab_type": "text"
      },
      "source": [
        "### User Defined Functions\n",
        "\n",
        "A function is a block of organized, reusable code that is used to perform a single, related action. Functions provide better modularity for your application and a high degree of code reusing. "
      ]
    },
    {
      "cell_type": "markdown",
      "metadata": {
        "id": "VJByGDW-jKp-",
        "colab_type": "text"
      },
      "source": [
        "### function without arguments"
      ]
    },
    {
      "cell_type": "code",
      "metadata": {
        "id": "TtjdqvqgjKp_",
        "colab_type": "code",
        "outputId": "ba746b2f-dafd-4b5a-ac09-687386655b3c",
        "colab": {
          "base_uri": "https://localhost:8080/",
          "height": 34
        }
      },
      "source": [
        "# Simple function\n",
        "def someFunction():\n",
        "    print (\"Hello World\")\n",
        "\n",
        "# Call the function\n",
        "someFunction()"
      ],
      "execution_count": 0,
      "outputs": [
        {
          "output_type": "stream",
          "text": [
            "Hello World\n"
          ],
          "name": "stdout"
        }
      ]
    },
    {
      "cell_type": "markdown",
      "metadata": {
        "id": "X8s8fSqBjKqD",
        "colab_type": "text"
      },
      "source": [
        "### function with arguments"
      ]
    },
    {
      "cell_type": "code",
      "metadata": {
        "id": "Pvml5ihMjKqE",
        "colab_type": "code",
        "outputId": "8882a38c-c728-46d5-892d-55a3e5401230",
        "colab": {
          "base_uri": "https://localhost:8080/",
          "height": 34
        }
      },
      "source": [
        "# simple function to add two numbers\n",
        "def sum_two_numbers(a, b):\n",
        "    return a + b\n",
        "\n",
        "# after this line x will hold the value 3!\n",
        "x = sum_two_numbers(1,2)\n",
        "print (x)"
      ],
      "execution_count": 0,
      "outputs": [
        {
          "output_type": "stream",
          "text": [
            "3\n"
          ],
          "name": "stdout"
        }
      ]
    },
    {
      "cell_type": "markdown",
      "metadata": {
        "id": "52BkglbtjKqH",
        "colab_type": "text"
      },
      "source": [
        "You can also set default value for argument(s) in a function. In the below example value of b is set to 10 as default"
      ]
    },
    {
      "cell_type": "code",
      "metadata": {
        "id": "ylmh5fk8jKqH",
        "colab_type": "code",
        "outputId": "928a230b-cbfc-4b64-853d-5acc2a249af2",
        "colab": {
          "base_uri": "https://localhost:8080/",
          "height": 51
        }
      },
      "source": [
        "def sum_two_numbers(a, b = 10):\n",
        "    return a + b\n",
        "\n",
        "print (sum_two_numbers(10))\n",
        "print (sum_two_numbers(10, 5))"
      ],
      "execution_count": 0,
      "outputs": [
        {
          "output_type": "stream",
          "text": [
            "20\n",
            "15\n"
          ],
          "name": "stdout"
        }
      ]
    },
    {
      "cell_type": "markdown",
      "metadata": {
        "id": "UwwYT-8VjKqK",
        "colab_type": "text"
      },
      "source": [
        "### Scope of variables\n",
        "\n",
        "The scope of a variable determines the portion of the program where you can access a particular identifier. There are two basic scopes of variables in Python\n",
        "\n",
        "- Global variables\n",
        "- Local variables"
      ]
    },
    {
      "cell_type": "code",
      "metadata": {
        "id": "YqqOKuSNjKqL",
        "colab_type": "code",
        "outputId": "4a77d47c-a890-42a5-d842-ca9bf2bb08f2",
        "colab": {
          "base_uri": "https://localhost:8080/",
          "height": 34
        }
      },
      "source": [
        "# Global variable\n",
        "a = 10 \n",
        "\n",
        "# Simple function to add two numbers\n",
        "def sum_two_numbers(b):\n",
        "    return a + b\n",
        "\n",
        "# Call the function and print result\n",
        "print (sum_two_numbers(10))"
      ],
      "execution_count": 0,
      "outputs": [
        {
          "output_type": "stream",
          "text": [
            "20\n"
          ],
          "name": "stdout"
        }
      ]
    },
    {
      "cell_type": "markdown",
      "metadata": {
        "id": "5lpg5vg6jKqO",
        "colab_type": "text"
      },
      "source": [
        "### Default argument\n",
        "\n",
        "A default argument is an argument that assumes a default value if a value is not provided in the function call for that argument."
      ]
    },
    {
      "cell_type": "code",
      "metadata": {
        "id": "orAV5Or7jKqP",
        "colab_type": "code",
        "outputId": "05e55e99-4e82-48bd-c76c-19650e1e8edb",
        "colab": {
          "base_uri": "https://localhost:8080/",
          "height": 51
        }
      },
      "source": [
        "# Simple function to add two number with b having default value of 10\n",
        "def sum_two_numbers(a, b = 10):\n",
        "    return a + b\n",
        "\n",
        "# Call the function and print result\n",
        "print (sum_two_numbers(10))\n",
        "\n",
        "print (sum_two_numbers(10, 5))"
      ],
      "execution_count": 0,
      "outputs": [
        {
          "output_type": "stream",
          "text": [
            "20\n",
            "15\n"
          ],
          "name": "stdout"
        }
      ]
    },
    {
      "cell_type": "markdown",
      "metadata": {
        "id": "GJ77tsBtjKqS",
        "colab_type": "text"
      },
      "source": [
        "### Variable length arguments\n",
        "\n",
        "You may need to process a function for more arguments than you specified while defining the function. These arguments are called variable-lengtharguments and are not named in the function definition, unlike required and default arguments. The *args and **kwargs is a common idiom to allow arbitrary number of arguments.\n",
        "\n",
        "The *args will give you all function parameters as a tuple:"
      ]
    },
    {
      "cell_type": "code",
      "metadata": {
        "id": "XjE19QkujKqS",
        "colab_type": "code",
        "outputId": "cd173256-f0bf-4cea-eba8-7c478cd44894",
        "colab": {
          "base_uri": "https://localhost:8080/",
          "height": 68
        }
      },
      "source": [
        "# Simple function to loop through arguments and print them\n",
        "def foo(*args):\n",
        "    for a in args:\n",
        "        print (a)\n",
        "\n",
        "# Call the function\n",
        "foo(1,2,3) "
      ],
      "execution_count": 0,
      "outputs": [
        {
          "output_type": "stream",
          "text": [
            "1\n",
            "2\n",
            "3\n"
          ],
          "name": "stdout"
        }
      ]
    },
    {
      "cell_type": "markdown",
      "metadata": {
        "id": "Gy-l0S6FjKqW",
        "colab_type": "text"
      },
      "source": [
        "The **kwargs will give you all keyword arguments except for those corresponding to a formal parameter as a dictionary"
      ]
    },
    {
      "cell_type": "code",
      "metadata": {
        "id": "ZU_5PIt-jKqX",
        "colab_type": "code",
        "outputId": "422dee94-d441-4ac0-be19-39573579a373",
        "colab": {
          "base_uri": "https://localhost:8080/",
          "height": 51
        }
      },
      "source": [
        "# Simple function to loop through arguments and print them\n",
        "def foo(**kwargs):\n",
        "    for a in kwargs:\n",
        "        print (a, kwargs[a])\n",
        "        \n",
        "\n",
        "# Call the function\n",
        "foo(name='Jivin', age=8)"
      ],
      "execution_count": 0,
      "outputs": [
        {
          "output_type": "stream",
          "text": [
            "name Jivin\n",
            "age 8\n"
          ],
          "name": "stdout"
        }
      ]
    }
  ]
}